{
  "nbformat": 4,
  "nbformat_minor": 0,
  "metadata": {
    "colab": {
      "name": "WassersteinGAN_tf.ipynb",
      "provenance": [],
      "collapsed_sections": []
    },
    "kernelspec": {
      "name": "python3",
      "display_name": "Python 3"
    },
    "accelerator": "GPU"
  },
  "cells": [
    {
      "cell_type": "code",
      "metadata": {
        "id": "CCNSTCL9Rq93"
      },
      "source": [
        "# Dependencies\n",
        "import numpy as np\n",
        "import os\n",
        "import time \n",
        "import tensorflow as tf\n",
        "from tqdm import tqdm\n",
        "from google.colab import drive\n",
        "\n",
        "# Visualization\n",
        "import matplotlib.pyplot as plt\n",
        "from PIL import Image\n",
        "\n",
        "# Keras Dependencies\n",
        "from keras.datasets import mnist\n",
        "from keras.models import Sequential\n",
        "from keras.layers import Dense, Flatten, Reshape\n",
        "from keras.layers import Conv2D, Conv2DTranspose\n",
        "from keras.layers import LeakyReLU, Dropout\n",
        "from keras.layers import BatchNormalization, Input\n",
        "from keras.optimizers import Adam"
      ],
      "execution_count": 1,
      "outputs": []
    },
    {
      "cell_type": "code",
      "metadata": {
        "id": "5iWDk__ZXgBI",
        "outputId": "471ea37c-7b7f-4fde-bb5f-c88427426f5d",
        "colab": {
          "base_uri": "https://localhost:8080/",
          "height": 34
        }
      },
      "source": [
        "drive.mount('/content/drive', force_remount=True)"
      ],
      "execution_count": 2,
      "outputs": [
        {
          "output_type": "stream",
          "text": [
            "Mounted at /content/drive\n"
          ],
          "name": "stdout"
        }
      ]
    },
    {
      "cell_type": "code",
      "metadata": {
        "id": "cRSkIJL7Xl5F",
        "outputId": "d3479300-15cf-4c18-9ab5-6ae86010d220",
        "colab": {
          "base_uri": "https://localhost:8080/",
          "height": 50
        }
      },
      "source": [
        "# import mnist dataset from keras\n",
        "(TrainImages,TrainLabel),(_,_) = mnist.load_data()\n",
        "\n",
        "TrainImages = TrainImages.reshape(TrainImages.shape[0], 28, 28, 1)"
      ],
      "execution_count": 3,
      "outputs": [
        {
          "output_type": "stream",
          "text": [
            "Downloading data from https://storage.googleapis.com/tensorflow/tf-keras-datasets/mnist.npz\n",
            "11493376/11490434 [==============================] - 0s 0us/step\n"
          ],
          "name": "stdout"
        }
      ]
    },
    {
      "cell_type": "code",
      "metadata": {
        "id": "nq6QN1ZjCT1h"
      },
      "source": [
        "HyperparameterDefaults = {\n",
        "    \"Dropout\" : 0.3,\n",
        "    \"GDimension\" : 7,\n",
        "    \"BatchSize\" : 512,\n",
        "    \"LearningRate\" : 0.001,\n",
        "    \"Epochs\" : 50,\n",
        "    \"LatentDim\" : 100,\n",
        "    \"GenFMaps\" : 256,\n",
        "    \"DisFMaps\" : 64,\n",
        "    \"SampleInterval\" : 20,\n",
        "}"
      ],
      "execution_count": 4,
      "outputs": []
    },
    {
      "cell_type": "code",
      "metadata": {
        "id": "P91PvXszjxyI"
      },
      "source": [
        "class GAN():\n",
        "  def __init__(self,config = None):\n",
        "    self.Name = \"WGAN\"\n",
        "    self.c = 0.01\n",
        "    self.Ncritic = 2\n",
        "    # Input Shape\n",
        "    self.ImgHeight = 28 \n",
        "    self.ImgWidth = 28\n",
        "    self.ImgChannels = 1\n",
        "    self.ImgShape = (self.ImgHeight, self.ImgWidth, self.ImgChannels)\n",
        "    \n",
        "    if config != None:\n",
        "      self.GenFMaps = config[\"GenFMaps\"]\n",
        "      self.DisFMaps = config[\"DisFMaps\"]\n",
        "      self.Dropout = config[\"Dropout\"]\n",
        "      self.Epochs = config[\"Epochs\"]\n",
        "      self.BatchSize = config[\"BatchSize\"]\n",
        "      self.GDimension = config[\"GDimension\"]\n",
        "      self.LatentDim = config[\"LatentDim\"]\n",
        "    else:\n",
        "      # Base Feature Maps Generator and Discriminator\n",
        "      self.GenFMaps = 256 # must be divisible by 4\n",
        "      self.DisFMaps = 64\n",
        "\n",
        "      # Hyperparameters\n",
        "      self.Dropout = 0.3\n",
        "      self.Epochs = 30\n",
        "      self.BatchSize = 256\n",
        "      self.GDimension = 7 # Generator latent dimension\n",
        "      self.LatentDim = 100\n",
        "      \n",
        "\n",
        "    # Visualization Parameters\n",
        "    self.SampleInterval = 10 if config == None else config[\"SampleInterval\"]\n",
        "    self.ControlSizeSQRT = 6\n",
        "    self.SavePath = '/content/drive/My Drive/GeneratedImages'\n",
        "    self.ImagesSavedCount = 0\n",
        "    self.Generator = None\n",
        "    self.Discriminator = None\n",
        "    self.Optimizer = tf.keras.optimizers.Adam(1e-4)\n",
        "    self.DiscLoss = 0\n",
        "    self.GenLoss = 0\n",
        "    self.DiscLosses = []\n",
        "    self.GenLosses = []\n",
        "\n",
        "    # Helper Function for Loss Calculation\n",
        "    # self.CrossEntropy = tf.keras.losses.BinaryCrossentropy(from_logits=True)\n",
        "\n",
        "    # Create Generator and Discriminator Models\n",
        "    self.Generator = self.CreateGenerator()\n",
        "    self.Discriminator = self.CreateDiscriminator() \n",
        "\n",
        "    # Define Optimizer\n",
        "    self.GenOptimizer = Adam(0.0001)\n",
        "    self.DiscOptimizer = Adam(0.0001)\n",
        "    \n",
        "\n",
        "  def CreateDiscriminator(self):\n",
        "    if self.Discriminator:\n",
        "      return self.Discriminator\n",
        "    self.Discriminator = Sequential(name=\"Discriminator\")\n",
        "    \n",
        "    self.Discriminator.add(Conv2D(self.DisFMaps, (5, 5),\n",
        "                                  strides=(2, 2), padding=\"same\",\n",
        "                                  input_shape = self.ImgShape))\n",
        "    self.Discriminator.add(LeakyReLU())\n",
        "    self.Discriminator.add(Dropout(self.Dropout))\n",
        "\n",
        "    self.Discriminator.add(Conv2D(2 * self.DisFMaps, (5, 5),\n",
        "                                  strides=(2, 2), padding=\"same\"))\n",
        "    self.Discriminator.add(LeakyReLU())\n",
        "    self.Discriminator.add(Dropout(self.Dropout))\n",
        "\n",
        "    self.Discriminator.add(Flatten())\n",
        "    self.Discriminator.add(Dense(1,activation = \"tanh\"))\n",
        "    \n",
        "    return self.Discriminator\n",
        "\n",
        "  \n",
        "  def CreateGenerator(self):\n",
        "    if self.Generator:\n",
        "      return self.Generator\n",
        "    \n",
        "    self.Generator = Sequential(name=\"Generator\")\n",
        "    self.Generator.add(Dense(self.GDimension * self.GDimension * self.GenFMaps,\n",
        "                             input_shape=(self.LatentDim,)))\n",
        "    \n",
        "    self.Generator.add(BatchNormalization())\n",
        "    self.Generator.add(LeakyReLU())\n",
        "    self.Generator.add(Reshape((self.GDimension, self.GDimension, self.GenFMaps)))\n",
        "    self.Generator.add(Conv2DTranspose(self.GenFMaps / 2, 5, strides = 1,\n",
        "                                  padding = \"same\"))\n",
        "    \n",
        "    self.Generator.add(BatchNormalization())\n",
        "    self.Generator.add(LeakyReLU(alpha = 0.2))\n",
        "    self.Generator.add(Conv2DTranspose(self.GenFMaps / 4, 5, strides = 2,\n",
        "                                  padding = \"same\"))\n",
        "    \n",
        "    self.Generator.add(BatchNormalization())\n",
        "    self.Generator.add(LeakyReLU(alpha = 0.2))\n",
        "\n",
        "    self.Generator.add(Conv2DTranspose(1, 5, strides = 2,\n",
        "                                  padding = \"same\", activation = \"tanh\"))\n",
        "    assert self.Generator.output_shape == (None, 28, 28, 1)\n",
        "    return self.Generator\n",
        "\n",
        "  # Loss Functions\n",
        "  def WassersteinGenLoss(self, FakeOutput):\n",
        "    return - tf.reduce_mean(FakeOutput)\n",
        "\n",
        "  def WassersteinDiscLoss(self, RealOutput, FakeOutput):\n",
        "    return tf.reduce_mean(RealOutput) - tf.reduce_mean(FakeOutput)\n",
        "  \n",
        "  # Training Procedure\n",
        "  @tf.function\n",
        "  def TrainingStep(self,RealImages):\n",
        "    # Generate Latent Vectors\n",
        "    Noise = np.random.random(size = (self.BatchSize, self.LatentDim))\n",
        "\n",
        "    # Automatic Gradient Calculation with GradientTape:    \n",
        "    with tf.GradientTape() as GenTape, tf.GradientTape() as DiscTape:\n",
        "      GeneratedImages = self.Generator(Noise,training = True)\n",
        "\n",
        "      # Train Discriminator Model on Real and Generated\n",
        "      RealOutput = self.Discriminator(RealImages, training = True)\n",
        "      FakeOutput = self.Discriminator(GeneratedImages, training = True)\n",
        "          \n",
        "      DiscLoss = - self.WassersteinDiscLoss(RealOutput, FakeOutput)\n",
        "\n",
        "      # Generator Loss\n",
        "      GenLoss = self.WassersteinGenLoss(FakeOutput) \n",
        "\n",
        "    # ------------------- # \n",
        "    #  Train Adversarial  #\n",
        "    # ------------------- #\n",
        "  \n",
        "    GradGenerator = GenTape.gradient(GenLoss,\n",
        "                                     self.Generator.trainable_variables)\n",
        "    GradDiscriminator = DiscTape.gradient(DiscLoss,\n",
        "                                          self.Discriminator.trainable_variables)\n",
        "\n",
        "    self.GenOptimizer.apply_gradients(zip(GradGenerator,\n",
        "                                          self.Generator.trainable_variables))\n",
        "    self.DiscOptimizer.apply_gradients(zip(GradDiscriminator,\n",
        "                                           self.Discriminator.trainable_variables))\n",
        "\n",
        "    # Add Weight Clipping for Discriminator\n",
        "    for Weights in self.Discriminator.trainable_variables:\n",
        "      Weights = tf.clip_by_value(Weights,-self.c, self.c)\n",
        "    \n",
        "    return (DiscLoss,GenLoss)\n",
        "\n",
        "  @tf.function\n",
        "  def DiscTrainStep(self,RealImages):\n",
        "    \"\"\"\n",
        "    # Training Function to solely traing Discriminator Model\n",
        "    \"\"\"\n",
        "    Noise = np.random.random(size = (self.BatchSize, self.LatentDim))\n",
        "    # Train Discriminator Model on Real and Generated\n",
        "    with tf.GradientTape() as DiscTape:\n",
        "      GeneratedImages = self.Generator(Noise,training = True)\n",
        "\n",
        "      RealOutput = self.Discriminator(RealImages, training = True)\n",
        "      FakeOutput = self.Discriminator(GeneratedImages, training = True)\n",
        "          \n",
        "      DiscLoss = - self.WassersteinDiscLoss(RealOutput, FakeOutput)\n",
        "\n",
        "    GradDiscriminator = DiscTape.gradient(DiscLoss,\n",
        "                                        self.Discriminator.trainable_variables)\n",
        "\n",
        "    self.DiscOptimizer.apply_gradients(zip(GradDiscriminator,\n",
        "                                         self.Discriminator.trainable_variables))\n",
        "    for Weights in self.Discriminator.trainable_variables:\n",
        "      Weights = tf.clip_by_value(Weights,-self.c, self.c)\n",
        "\n",
        "    return DiscLoss\n",
        "\n",
        "  \n",
        "  def Training(self, RealDataset, Normalization = True):\n",
        "    TrainingData = tf.cast(RealDataset,'float32')\n",
        "    \n",
        "    # Normalizing Dataset\n",
        "    if Normalization == True:\n",
        "      TrainingData = TrainingData / 127.5 - 1 \n",
        "    if Normalization == \"norm\":\n",
        "      TrainingData = TrainingData / 255 \n",
        "\n",
        "    # Adversarial Ground Truths\n",
        "    ValidLabels = np.ones((self.BatchSize, 1))\n",
        "    GeneratedLabels = np.zeros((self.BatchSize, 1))\n",
        "\n",
        "    for Epoch in tqdm(range(self.Epochs)):\n",
        "      for BatchNumber in range(len(RealDataset)// self.BatchSize):     \n",
        "        # Discriminator Training Steps         \n",
        "        for Step in range(self.Ncritic - 1):\n",
        "          Indexes = np.random.randint(0, TrainingData.shape[0], self.BatchSize)\n",
        "          RealImages = tf.gather(TrainingData,Indexes)\n",
        "          DiscLoss = self.DiscTrainStep(RealImages)\n",
        "\n",
        "        # Select Random Training Batch from Real Data\n",
        "        Indexes = np.random.randint(0, TrainingData.shape[0], self.BatchSize)\n",
        "        RealImages = tf.gather(TrainingData,Indexes)\n",
        "        \n",
        "        #  Combined Training Step\n",
        "        self.DiscLoss, self.GenLoss = self.TrainingStep(RealImages)\n",
        "        \n",
        "        # added\n",
        "        self.DiscLosses.append(self.DiscLoss.numpy())\n",
        "        self.GenLosses.append(self.GenLoss.numpy())\n",
        "\n",
        "      # Sampling Images\n",
        "      if (Epoch+1) % self.SampleInterval == 0:\n",
        "        self.SampleImages()\n",
        "\n",
        "  def SampleImages(self, seed = None):\n",
        "    if self.SavePath == None:\n",
        "      return\n",
        "    if not os.path.exists(self.SavePath):\n",
        "      os.mkdir(self.SavePath)\n",
        "    ControlImage = np.zeros((self.ImgWidth * self.ControlSizeSQRT,\n",
        "                              self.ImgHeight * self.ControlSizeSQRT,\n",
        "                              self.ImgChannels))\n",
        "    ControlVectors = np.random.normal(size = (self.ControlSizeSQRT**2, self.LatentDim))\n",
        "    TestImages = self.Generator.predict(ControlVectors)\n",
        "    for ImgNumber in range(self.ControlSizeSQRT**2):\n",
        "      XOffset = ImgNumber % self.ControlSizeSQRT\n",
        "      YOffset = ImgNumber // self.ControlSizeSQRT\n",
        "      ControlImage[XOffset * self.ImgWidth : (XOffset + 1) *self.ImgWidth,\n",
        "                   YOffset * self.ImgHeight : (YOffset + 1) *self.ImgHeight, :] = TestImages[ImgNumber, :, :, :]\n",
        "    NewImage = Image.fromarray(np.squeeze(np.uint8((ControlImage + 1)* 127.5),axis=2)) # Problem with Shape\n",
        "    \n",
        "    NewImage.save('%s/generated_%s_%d.png' % (self.SavePath,self.Name,self.ImagesSavedCount))      \n",
        "    \n",
        "    self.ImagesSavedCount += 1           "
      ],
      "execution_count": 5,
      "outputs": []
    },
    {
      "cell_type": "code",
      "metadata": {
        "id": "o8OF_mN_QmTu",
        "outputId": "0fa4bc4c-809e-4c95-c011-7de976b779b8",
        "colab": {
          "base_uri": "https://localhost:8080/",
          "height": 265
        }
      },
      "source": [
        "noise = tf.random.normal([1, 100])\n",
        "test = GAN().CreateGenerator()\n",
        "generated_image = test(noise, training=False)\n",
        "plt.imshow(generated_image[0, :, :, 0], cmap='gray');"
      ],
      "execution_count": 6,
      "outputs": [
        {
          "output_type": "display_data",
          "data": {
            "image/png": "[encoded data removed]",
            "text/plain": [
              "<Figure size 432x288 with 1 Axes>"
            ]
          },
          "metadata": {
            "tags": [],
            "needs_background": "light"
          }
        }
      ]
    },
    {
      "cell_type": "code",
      "metadata": {
        "id": "ULbiOW5FjYar",
        "outputId": "74cd1b5d-3fe2-46e2-f8d3-c21ff7b2d41b",
        "colab": {
          "base_uri": "https://localhost:8080/",
          "height": 34
        }
      },
      "source": [
        "WGAN = GAN()\n",
        "WGAN.Training(TrainImages)"
      ],
      "execution_count": null,
      "outputs": [
        {
          "output_type": "stream",
          "text": [
            " 23%|██▎       | 7/30 [02:02<06:46, 17.66s/it]"
          ],
          "name": "stderr"
        }
      ]
    },
    {
      "cell_type": "code",
      "metadata": {
        "id": "n9MGfCKrR7vx",
        "outputId": "13493242-3ad8-4eea-c945-57b29c80e895",
        "colab": {
          "base_uri": "https://localhost:8080/",
          "height": 282
        }
      },
      "source": [
        "noise = tf.random.normal([1, 100])\n",
        "generated_image = WGAN.Generator(noise, training=False)\n",
        "prediction = WGAN.Discriminator(generated_image)\n",
        "plt.imshow(generated_image[0, :, :, 0], cmap='gray');\n",
        "print(prediction)"
      ],
      "execution_count": null,
      "outputs": [
        {
          "output_type": "stream",
          "text": [
            "tf.Tensor([[-1.]], shape=(1, 1), dtype=float32)\n"
          ],
          "name": "stdout"
        },
        {
          "output_type": "display_data",
          "data": {
            "image/png": "[encoded data removed]",
            "text/plain": [
              "<Figure size 432x288 with 1 Axes>"
            ]
          },
          "metadata": {
            "tags": [],
            "needs_background": "light"
          }
        }
      ]
    },
    {
      "cell_type": "code",
      "metadata": {
        "id": "zrwFXzoAjUpe",
        "outputId": "6113277e-3962-4653-ab45-ce191226cb80",
        "colab": {
          "base_uri": "https://localhost:8080/",
          "height": 282
        }
      },
      "source": [
        "plt.plot(WGAN.DiscLosses)\n",
        "plt.plot(WGAN.GenLosses)"
      ],
      "execution_count": null,
      "outputs": [
        {
          "output_type": "execute_result",
          "data": {
            "text/plain": [
              "[<matplotlib.lines.Line2D at 0x7f0489111b38>]"
            ]
          },
          "metadata": {
            "tags": []
          },
          "execution_count": 127
        },
        {
          "output_type": "display_data",
          "data": {
            "image/png": "[encoded data removed]",
            "text/plain": [
              "<Figure size 432x288 with 1 Axes>"
            ]
          },
          "metadata": {
            "tags": [],
            "needs_background": "light"
          }
        }
      ]
    }
  ]
}